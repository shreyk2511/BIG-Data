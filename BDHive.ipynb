{
  "nbformat": 4,
  "nbformat_minor": 0,
  "metadata": {
    "colab": {
      "provenance": []
    },
    "kernelspec": {
      "name": "python3",
      "display_name": "Python 3"
    },
    "language_info": {
      "name": "python"
    }
  },
  "cells": [
    {
      "cell_type": "code",
      "execution_count": 17,
      "metadata": {
        "colab": {
          "base_uri": "https://localhost:8080/"
        },
        "id": "rNowHmO4J_dz",
        "outputId": "8f597f5d-0e02-4248-c6a7-a71168a6df39"
      },
      "outputs": [
        {
          "output_type": "stream",
          "name": "stdout",
          "text": [
            "Looking in indexes: https://pypi.org/simple, https://us-python.pkg.dev/colab-wheels/public/simple/\n",
            "Requirement already satisfied: pyspark in /usr/local/lib/python3.8/dist-packages (3.3.1)\n",
            "Requirement already satisfied: py4j==0.10.9.5 in /usr/local/lib/python3.8/dist-packages (from pyspark) (0.10.9.5)\n"
          ]
        }
      ],
      "source": [
        "pip install pyspark"
      ]
    },
    {
      "cell_type": "code",
      "source": [
        "import os\n",
        "os.listdir(os.getcwd())"
      ],
      "metadata": {
        "colab": {
          "base_uri": "https://localhost:8080/"
        },
        "id": "mInCUMZYKXFU",
        "outputId": "3ea6a689-cae5-4a89-d6be-1f474b5a5c98"
      },
      "execution_count": 18,
      "outputs": [
        {
          "output_type": "execute_result",
          "data": {
            "text/plain": [
              "['.config',\n",
              " 'ml-latest.zip',\n",
              " 'ml-latest',\n",
              " 'derby.log',\n",
              " 'spark-warehouse',\n",
              " 'metastore_db',\n",
              " 'sample_data']"
            ]
          },
          "metadata": {},
          "execution_count": 18
        }
      ]
    },
    {
      "cell_type": "code",
      "source": [
        "from pyspark.sql import SparkSession\n",
        "spark=SparkSession.builder.enableHiveSupport().getOrCreate()"
      ],
      "metadata": {
        "id": "vSTgfl5iK1bh"
      },
      "execution_count": 19,
      "outputs": []
    },
    {
      "cell_type": "code",
      "source": [
        "spark.sql('show databases').show()"
      ],
      "metadata": {
        "colab": {
          "base_uri": "https://localhost:8080/"
        },
        "id": "Q3Z8Up7uLQ-s",
        "outputId": "2185a920-c05c-4e4f-c992-bc8931027bfb"
      },
      "execution_count": 20,
      "outputs": [
        {
          "output_type": "stream",
          "name": "stdout",
          "text": [
            "+---------+\n",
            "|namespace|\n",
            "+---------+\n",
            "|  default|\n",
            "|   movies|\n",
            "+---------+\n",
            "\n"
          ]
        }
      ]
    },
    {
      "cell_type": "code",
      "source": [
        "spark.sql('show tables').show()"
      ],
      "metadata": {
        "colab": {
          "base_uri": "https://localhost:8080/"
        },
        "id": "76W3JKCILeLo",
        "outputId": "1b4894cd-d0cb-4dd5-b858-a77c7fe66b3c"
      },
      "execution_count": 21,
      "outputs": [
        {
          "output_type": "stream",
          "name": "stdout",
          "text": [
            "+---------+---------+-----------+\n",
            "|namespace|tableName|isTemporary|\n",
            "+---------+---------+-----------+\n",
            "|   movies|   movies|      false|\n",
            "|   movies|  ratings|      false|\n",
            "+---------+---------+-----------+\n",
            "\n"
          ]
        }
      ]
    },
    {
      "cell_type": "code",
      "source": [
        "fncs =  spark.sql('show functions').collect()\n",
        "len(fncs)"
      ],
      "metadata": {
        "colab": {
          "base_uri": "https://localhost:8080/"
        },
        "id": "lEK9_fubLk8S",
        "outputId": "7de53114-4f65-4754-ba76-4251c62f2e31"
      },
      "execution_count": 22,
      "outputs": [
        {
          "output_type": "execute_result",
          "data": {
            "text/plain": [
              "388"
            ]
          },
          "metadata": {},
          "execution_count": 22
        }
      ]
    },
    {
      "cell_type": "code",
      "source": [
        "for i in fncs[100:111]:\n",
        "    print(i[0])"
      ],
      "metadata": {
        "colab": {
          "base_uri": "https://localhost:8080/"
        },
        "id": "GDCEYBOPLpbt",
        "outputId": "c499efee-5aca-431f-90a5-51ecc5104e53"
      },
      "execution_count": 23,
      "outputs": [
        {
          "output_type": "stream",
          "name": "stdout",
          "text": [
            "current_date\n",
            "current_timestamp\n",
            "current_timezone\n",
            "current_user\n",
            "date\n",
            "date_add\n",
            "date_format\n",
            "date_from_unix_date\n",
            "date_part\n",
            "date_sub\n",
            "date_trunc\n"
          ]
        }
      ]
    },
    {
      "cell_type": "code",
      "source": [
        "spark.sql(\"describe function instr\").show(truncate = False)"
      ],
      "metadata": {
        "colab": {
          "base_uri": "https://localhost:8080/"
        },
        "id": "btu5KHukLrQ1",
        "outputId": "fb67030d-6cdd-448d-b0a1-314c9c3b5532"
      },
      "execution_count": 24,
      "outputs": [
        {
          "output_type": "stream",
          "name": "stdout",
          "text": [
            "+-----------------------------------------------------------------------------------------------------+\n",
            "|function_desc                                                                                        |\n",
            "+-----------------------------------------------------------------------------------------------------+\n",
            "|Function: instr                                                                                      |\n",
            "|Class: org.apache.spark.sql.catalyst.expressions.StringInstr                                         |\n",
            "|Usage: instr(str, substr) - Returns the (1-based) index of the first occurrence of `substr` in `str`.|\n",
            "+-----------------------------------------------------------------------------------------------------+\n",
            "\n"
          ]
        }
      ]
    },
    {
      "cell_type": "code",
      "source": [
        "spark.sql('create database movies1')"
      ],
      "metadata": {
        "colab": {
          "base_uri": "https://localhost:8080/"
        },
        "id": "RohReLOFLuMS",
        "outputId": "12362fe8-4e24-4615-b1ed-1573a3777c73"
      },
      "execution_count": 26,
      "outputs": [
        {
          "output_type": "execute_result",
          "data": {
            "text/plain": [
              "DataFrame[]"
            ]
          },
          "metadata": {},
          "execution_count": 26
        }
      ]
    },
    {
      "cell_type": "code",
      "source": [
        "spark.sql('show databases').show()"
      ],
      "metadata": {
        "colab": {
          "base_uri": "https://localhost:8080/"
        },
        "id": "hMjEeAz9Lwit",
        "outputId": "fd1ffdef-c674-4ac5-c5af-b04bbccdbfb3"
      },
      "execution_count": 27,
      "outputs": [
        {
          "output_type": "stream",
          "name": "stdout",
          "text": [
            "+---------+\n",
            "|namespace|\n",
            "+---------+\n",
            "|  default|\n",
            "|   movies|\n",
            "|  movies1|\n",
            "+---------+\n",
            "\n"
          ]
        }
      ]
    },
    {
      "cell_type": "code",
      "source": [
        "! wget http://files.grouplens.org/datasets/movielens/ml-latest.zip\n"
      ],
      "metadata": {
        "colab": {
          "base_uri": "https://localhost:8080/"
        },
        "id": "KPO-QewBLzo0",
        "outputId": "57714f22-f39b-435b-a03a-b036278a2cf0"
      },
      "execution_count": 28,
      "outputs": [
        {
          "output_type": "stream",
          "name": "stdout",
          "text": [
            "--2022-12-01 14:58:10--  http://files.grouplens.org/datasets/movielens/ml-latest.zip\n",
            "Resolving files.grouplens.org (files.grouplens.org)... 128.101.65.152\n",
            "Connecting to files.grouplens.org (files.grouplens.org)|128.101.65.152|:80... connected.\n",
            "HTTP request sent, awaiting response... 200 OK\n",
            "Length: 277113433 (264M) [application/zip]\n",
            "Saving to: ‘ml-latest.zip.1’\n",
            "\n",
            "ml-latest.zip.1     100%[===================>] 264.28M  79.7MB/s    in 3.5s    \n",
            "\n",
            "2022-12-01 14:58:13 (74.7 MB/s) - ‘ml-latest.zip.1’ saved [277113433/277113433]\n",
            "\n"
          ]
        }
      ]
    },
    {
      "cell_type": "code",
      "source": [
        "!unzip /content/ml-latest.zip"
      ],
      "metadata": {
        "colab": {
          "base_uri": "https://localhost:8080/"
        },
        "id": "fmOC4T6iL2ZS",
        "outputId": "c153e726-fb3c-4a8e-9b53-0b18583953c6"
      },
      "execution_count": 29,
      "outputs": [
        {
          "output_type": "stream",
          "name": "stdout",
          "text": [
            "Archive:  /content/ml-latest.zip\n",
            "replace ml-latest/links.csv? [y]es, [n]o, [A]ll, [N]one, [r]ename: "
          ]
        }
      ]
    },
    {
      "cell_type": "code",
      "source": [
        "spark.sql('use movies1')"
      ],
      "metadata": {
        "colab": {
          "base_uri": "https://localhost:8080/"
        },
        "id": "vU2uchj4L5hJ",
        "outputId": "9da8984a-45e3-4cfd-fcd5-1d896b1764f2"
      },
      "execution_count": 32,
      "outputs": [
        {
          "output_type": "execute_result",
          "data": {
            "text/plain": [
              "DataFrame[]"
            ]
          },
          "metadata": {},
          "execution_count": 32
        }
      ]
    },
    {
      "cell_type": "code",
      "source": [
        "spark.sql('create table movies \\\n",
        "         (movieId int,title string,genres string) \\\n",
        "         row format delimited fields terminated by \",\"\\\n",
        "         stored as textfile')                                              # in textfile format\n",
        "\n",
        "spark.sql(\"create table ratings\\\n",
        "           (userId int,movieId int,rating float,timestamp string)\\\n",
        "           stored as ORC\" )  \n",
        "\n",
        "spark.sql(\"create table genres_by_count\\\n",
        "           ( genres string,count int)\\\n",
        "           stored as AVRO\" )                                               # in AVRO format                                              # in ORC format"
      ],
      "metadata": {
        "colab": {
          "base_uri": "https://localhost:8080/"
        },
        "id": "n6ihN9ilL-Gs",
        "outputId": "7e61d2e4-4aaa-4aac-e56b-8ab93cea8653"
      },
      "execution_count": 33,
      "outputs": [
        {
          "output_type": "execute_result",
          "data": {
            "text/plain": [
              "DataFrame[]"
            ]
          },
          "metadata": {},
          "execution_count": 33
        }
      ]
    },
    {
      "cell_type": "code",
      "source": [
        "spark.sql('show tables').show()"
      ],
      "metadata": {
        "colab": {
          "base_uri": "https://localhost:8080/"
        },
        "id": "0amytfSWMHID",
        "outputId": "369a29ac-cf41-4bd7-99e6-e97fc99ac52e"
      },
      "execution_count": 37,
      "outputs": [
        {
          "output_type": "stream",
          "name": "stdout",
          "text": [
            "+---------+---------------+-----------+\n",
            "|namespace|      tableName|isTemporary|\n",
            "+---------+---------------+-----------+\n",
            "|  movies1|genres_by_count|      false|\n",
            "|  movies1|         movies|      false|\n",
            "|  movies1|        ratings|      false|\n",
            "+---------+---------------+-----------+\n",
            "\n"
          ]
        }
      ]
    },
    {
      "cell_type": "code",
      "source": [
        "spark.sql(\"describe formatted ratings\").show(truncate = False)"
      ],
      "metadata": {
        "colab": {
          "base_uri": "https://localhost:8080/"
        },
        "id": "H8JSnO5kNSDD",
        "outputId": "a01aca6e-6214-470d-cbca-e50ae350b588"
      },
      "execution_count": 38,
      "outputs": [
        {
          "output_type": "stream",
          "name": "stdout",
          "text": [
            "+----------------------------+------------------------------------------------+-------+\n",
            "|col_name                    |data_type                                       |comment|\n",
            "+----------------------------+------------------------------------------------+-------+\n",
            "|userId                      |int                                             |null   |\n",
            "|movieId                     |int                                             |null   |\n",
            "|rating                      |float                                           |null   |\n",
            "|timestamp                   |string                                          |null   |\n",
            "|                            |                                                |       |\n",
            "|# Detailed Table Information|                                                |       |\n",
            "|Database                    |movies1                                         |       |\n",
            "|Table                       |ratings                                         |       |\n",
            "|Owner                       |root                                            |       |\n",
            "|Created Time                |Thu Dec 01 15:00:15 UTC 2022                    |       |\n",
            "|Last Access                 |UNKNOWN                                         |       |\n",
            "|Created By                  |Spark 3.3.1                                     |       |\n",
            "|Type                        |MANAGED                                         |       |\n",
            "|Provider                    |hive                                            |       |\n",
            "|Table Properties            |[transient_lastDdlTime=1669906815]              |       |\n",
            "|Location                    |file:/content/spark-warehouse/movies1.db/ratings|       |\n",
            "|Serde Library               |org.apache.hadoop.hive.ql.io.orc.OrcSerde       |       |\n",
            "|InputFormat                 |org.apache.hadoop.hive.ql.io.orc.OrcInputFormat |       |\n",
            "|OutputFormat                |org.apache.hadoop.hive.ql.io.orc.OrcOutputFormat|       |\n",
            "|Storage Properties          |[serialization.format=1]                        |       |\n",
            "+----------------------------+------------------------------------------------+-------+\n",
            "only showing top 20 rows\n",
            "\n"
          ]
        }
      ]
    },
    {
      "cell_type": "code",
      "source": [
        "spark.sql(\"load data local inpath '/content/ml-latest.zip' overwrite into table movies\")"
      ],
      "metadata": {
        "colab": {
          "base_uri": "https://localhost:8080/"
        },
        "id": "lwlpPC4DNS1v",
        "outputId": "2413fe84-2e0e-4e9d-b8d5-6fa958ecb5ef"
      },
      "execution_count": 42,
      "outputs": [
        {
          "output_type": "execute_result",
          "data": {
            "text/plain": [
              "DataFrame[]"
            ]
          },
          "metadata": {},
          "execution_count": 42
        }
      ]
    },
    {
      "cell_type": "code",
      "source": [
        "from pyspark.sql.types import *\n",
        "schema = StructType([\n",
        "             StructField('userId', IntegerType()),\n",
        "             StructField('movieId', IntegerType()),\n",
        "             StructField('rating', DoubleType()),\n",
        "             StructField('timestamp', StringType())\n",
        "            ])"
      ],
      "metadata": {
        "id": "Lyh8ShQWNYLy"
      },
      "execution_count": 40,
      "outputs": []
    },
    {
      "cell_type": "code",
      "source": [
        "ratings_df = spark.read.csv(\"/content/ml-latest/ratings.csv\", schema = schema, header = True)"
      ],
      "metadata": {
        "id": "1B8k252FNfAW"
      },
      "execution_count": 43,
      "outputs": []
    },
    {
      "cell_type": "code",
      "source": [
        "ratings_df.show(5)"
      ],
      "metadata": {
        "colab": {
          "base_uri": "https://localhost:8080/"
        },
        "id": "idpM1QdqNt_4",
        "outputId": "4e98e556-76d0-491d-a630-7c24eb3b0335"
      },
      "execution_count": 44,
      "outputs": [
        {
          "output_type": "stream",
          "name": "stdout",
          "text": [
            "+------+-------+------+----------+\n",
            "|userId|movieId|rating| timestamp|\n",
            "+------+-------+------+----------+\n",
            "|     1|    307|   3.5|1256677221|\n",
            "|     1|    481|   3.5|1256677456|\n",
            "|     1|   1091|   1.5|1256677471|\n",
            "|     1|   1257|   4.5|1256677460|\n",
            "|     1|   1449|   4.5|1256677264|\n",
            "+------+-------+------+----------+\n",
            "only showing top 5 rows\n",
            "\n"
          ]
        }
      ]
    },
    {
      "cell_type": "code",
      "source": [
        "ratings_df.printSchema()"
      ],
      "metadata": {
        "colab": {
          "base_uri": "https://localhost:8080/"
        },
        "id": "xoPPvjVFNxcT",
        "outputId": "215795dc-5d7f-440c-9708-11115cf47057"
      },
      "execution_count": 45,
      "outputs": [
        {
          "output_type": "stream",
          "name": "stdout",
          "text": [
            "root\n",
            " |-- userId: integer (nullable = true)\n",
            " |-- movieId: integer (nullable = true)\n",
            " |-- rating: double (nullable = true)\n",
            " |-- timestamp: string (nullable = true)\n",
            "\n"
          ]
        }
      ]
    },
    {
      "cell_type": "code",
      "source": [
        "spark.sql(\"load data local inpath '/content/ml-latest/movies.csv' overwrite into table movies\")"
      ],
      "metadata": {
        "colab": {
          "base_uri": "https://localhost:8080/"
        },
        "id": "QkKgxgIwNznh",
        "outputId": "6e2bfa71-29ad-4b71-ffc0-954988cecb86"
      },
      "execution_count": 46,
      "outputs": [
        {
          "output_type": "execute_result",
          "data": {
            "text/plain": [
              "DataFrame[]"
            ]
          },
          "metadata": {},
          "execution_count": 46
        }
      ]
    },
    {
      "cell_type": "code",
      "source": [
        "spark.sql(\"select * from movies limit 10\").show(truncate = False)"
      ],
      "metadata": {
        "colab": {
          "base_uri": "https://localhost:8080/"
        },
        "id": "cDdzeB7VOR9q",
        "outputId": "cba789bb-b0c6-4532-da79-8c5ffb1f4ae7"
      },
      "execution_count": 47,
      "outputs": [
        {
          "output_type": "stream",
          "name": "stdout",
          "text": [
            "+-------+----------------------------------+-------------------------------------------+\n",
            "|movieId|title                             |genres                                     |\n",
            "+-------+----------------------------------+-------------------------------------------+\n",
            "|null   |title                             |genres                                     |\n",
            "|1      |Toy Story (1995)                  |Adventure|Animation|Children|Comedy|Fantasy|\n",
            "|2      |Jumanji (1995)                    |Adventure|Children|Fantasy                 |\n",
            "|3      |Grumpier Old Men (1995)           |Comedy|Romance                             |\n",
            "|4      |Waiting to Exhale (1995)          |Comedy|Drama|Romance                       |\n",
            "|5      |Father of the Bride Part II (1995)|Comedy                                     |\n",
            "|6      |Heat (1995)                       |Action|Crime|Thriller                      |\n",
            "|7      |Sabrina (1995)                    |Comedy|Romance                             |\n",
            "|8      |Tom and Huck (1995)               |Adventure|Children                         |\n",
            "|9      |Sudden Death (1995)               |Action                                     |\n",
            "+-------+----------------------------------+-------------------------------------------+\n",
            "\n"
          ]
        }
      ]
    },
    {
      "cell_type": "code",
      "source": [
        "spark.sql(\"select genres, count(*) as count from movies\\\n",
        "          group by genres\\\n",
        "          having count(*) > 500 \\\n",
        "          order by count desc\").show()"
      ],
      "metadata": {
        "colab": {
          "base_uri": "https://localhost:8080/"
        },
        "id": "Ei0brFdZOVBI",
        "outputId": "d22a4e35-6291-470f-bc4f-6b91e064e545"
      },
      "execution_count": 48,
      "outputs": [
        {
          "output_type": "stream",
          "name": "stdout",
          "text": [
            "+--------------------+-----+\n",
            "|              genres|count|\n",
            "+--------------------+-----+\n",
            "|               Drama| 7069|\n",
            "|              Comedy| 4735|\n",
            "|  (no genres listed)| 4135|\n",
            "|         Documentary| 3777|\n",
            "|        Comedy|Drama| 1879|\n",
            "|       Drama|Romance| 1754|\n",
            "|      Comedy|Romance| 1323|\n",
            "|              Horror| 1308|\n",
            "|Comedy|Drama|Romance|  856|\n",
            "|      Drama|Thriller|  736|\n",
            "|         Crime|Drama|  734|\n",
            "|            Thriller|  732|\n",
            "|     Horror|Thriller|  692|\n",
            "|           Animation|  595|\n",
            "|           Drama|War|  519|\n",
            "+--------------------+-----+\n",
            "\n"
          ]
        }
      ]
    },
    {
      "cell_type": "code",
      "source": [
        "spark.sql(\"insert into table genres_by_count \\\n",
        "          select genres, count(*) as count from movies\\\n",
        "          group by genres\\\n",
        "          having count(*) >= 500 \\\n",
        "          order by count desc\")"
      ],
      "metadata": {
        "colab": {
          "base_uri": "https://localhost:8080/"
        },
        "id": "4RNHnkeAOYGm",
        "outputId": "9fffa328-ffa7-4c16-9de0-e556b3271018"
      },
      "execution_count": 49,
      "outputs": [
        {
          "output_type": "execute_result",
          "data": {
            "text/plain": [
              "DataFrame[]"
            ]
          },
          "metadata": {},
          "execution_count": 49
        }
      ]
    },
    {
      "cell_type": "code",
      "source": [
        "spark.sql(\"select * from genres_by_count order by count desc limit 3\").show()"
      ],
      "metadata": {
        "colab": {
          "base_uri": "https://localhost:8080/"
        },
        "id": "dWIZSouNOaTS",
        "outputId": "6cf99df4-69d6-45c1-e967-41b2d32a75ac"
      },
      "execution_count": 50,
      "outputs": [
        {
          "output_type": "stream",
          "name": "stdout",
          "text": [
            "+------------------+-----+\n",
            "|            genres|count|\n",
            "+------------------+-----+\n",
            "|             Drama| 7069|\n",
            "|            Comedy| 4735|\n",
            "|(no genres listed)| 4135|\n",
            "+------------------+-----+\n",
            "\n"
          ]
        }
      ]
    },
    {
      "cell_type": "code",
      "source": [
        "schema = StructType([\n",
        "             StructField('userId', IntegerType()),\n",
        "             StructField('movieId', IntegerType()),\n",
        "             StructField('tag', StringType()),\n",
        "             StructField('timestamp', StringType())\n",
        "            ])\n",
        "\n",
        "tags_df = spark.read.csv(\"/content/ml-latest/tags.csv\", schema = schema, header = True)\n",
        "tags_df.printSchema()"
      ],
      "metadata": {
        "colab": {
          "base_uri": "https://localhost:8080/"
        },
        "id": "9rizuHZhOcgY",
        "outputId": "7ead760c-06ee-4d5f-a3b0-0540b6ff12d7"
      },
      "execution_count": 51,
      "outputs": [
        {
          "output_type": "stream",
          "name": "stdout",
          "text": [
            "root\n",
            " |-- userId: integer (nullable = true)\n",
            " |-- movieId: integer (nullable = true)\n",
            " |-- tag: string (nullable = true)\n",
            " |-- timestamp: string (nullable = true)\n",
            "\n"
          ]
        }
      ]
    },
    {
      "cell_type": "code",
      "source": [
        "tags_df.registerTempTable('tags_df_table')"
      ],
      "metadata": {
        "colab": {
          "base_uri": "https://localhost:8080/"
        },
        "id": "2dl0jfUSOj3y",
        "outputId": "c47b973d-a72e-4e6c-e085-27477c7fa0d2"
      },
      "execution_count": 52,
      "outputs": [
        {
          "output_type": "stream",
          "name": "stderr",
          "text": [
            "/usr/local/lib/python3.8/dist-packages/pyspark/sql/dataframe.py:229: FutureWarning: Deprecated in 2.0, use createOrReplaceTempView instead.\n",
            "  warnings.warn(\"Deprecated in 2.0, use createOrReplaceTempView instead.\", FutureWarning)\n"
          ]
        }
      ]
    },
    {
      "cell_type": "code",
      "source": [
        "spark.sql('show tables').show()"
      ],
      "metadata": {
        "colab": {
          "base_uri": "https://localhost:8080/"
        },
        "id": "d5janC9zOpWg",
        "outputId": "c79d5acc-98fb-4c04-ee6c-76fb2dbbd24e"
      },
      "execution_count": 53,
      "outputs": [
        {
          "output_type": "stream",
          "name": "stdout",
          "text": [
            "+---------+---------------+-----------+\n",
            "|namespace|      tableName|isTemporary|\n",
            "+---------+---------------+-----------+\n",
            "|  movies1|genres_by_count|      false|\n",
            "|  movies1|         movies|      false|\n",
            "|  movies1|        ratings|      false|\n",
            "|         |  tags_df_table|       true|\n",
            "+---------+---------------+-----------+\n",
            "\n"
          ]
        }
      ]
    }
  ]
}